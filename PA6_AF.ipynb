{
 "cells": [
  {
   "cell_type": "markdown",
   "id": "2db9dd9c",
   "metadata": {},
   "source": [
    "# Task1: Write a Python program will calculate the area and perimeter of a triangle using two different functions\n",
    "named calcArea() and calcPerimeter(). Your program should prompt the user for the length of three\n",
    "sides of the triangle. Each function should take the lengths of the sides as arguments and return the output of\n",
    "their respective calculations. As an added feature, set the default values of your parameters to 1 so if you call\n",
    "either function without parameters, it will still produce output) (I recommend using Heron’s Method for\n",
    "calculating the area of a triangle.)\n",
    "Here is a sample run of the program:\n",
    "Enter the length of side A: 5\n",
    "Enter the length of side B: 5\n",
    "Enter the length of side C: 5\n",
    "The area of the triangle is approximately 10.825318 square units.\n",
    "The perimeter of the triangle is 15 linear units.\n",
    "Enter the length of side A: 12\n",
    "Enter the length of side B: 16\n",
    "Enter the length of side C: 21\n",
    "The area of the triangle is approximately 95.451231 square units.\n",
    "The perimeter of the triangle is 49 linear units.\n",
    "area = calcArea()\n",
    "perimeter = calcPerimeter()\n",
    "The area of the triangle is approximately 0.433013 square units.\n",
    "The perimeter of the triangle is 3 linear units."
   ]
  },
  {
   "cell_type": "code",
   "execution_count": 2,
   "id": "370d36c8",
   "metadata": {},
   "outputs": [
    {
     "name": "stdout",
     "output_type": "stream",
     "text": [
      "Enter the length of side A: 5\n",
      "Enter the length of side B: 5\n",
      "Enter the length of side C: 5\n",
      "The area of the triangle is approximately 10.825318 square units.\n",
      "The perimeter of the triangle is 15.0 linear units.\n",
      "Do you want to calculate another triangle (yes/no)? yes\n",
      "Enter the length of side A: 12\n",
      "Enter the length of side B: 16\n",
      "Enter the length of side C: 21\n",
      "The area of the triangle is approximately 95.451231 square units.\n",
      "The perimeter of the triangle is 49.0 linear units.\n",
      "Do you want to calculate another triangle (yes/no)? no\n"
     ]
    }
   ],
   "source": [
    "import math\n",
    "\n",
    "def calcArea(a=1, b=1, c=1):\n",
    "    s = (a + b + c) / 2\n",
    "    area = math.sqrt(s * (s - a) * (s - b) * (s - c))\n",
    "    return area\n",
    "\n",
    "def calcPerimeter(a=1, b=1, c=1):\n",
    "    perimeter = a + b + c\n",
    "    return perimeter\n",
    "\n",
    "while True:\n",
    "    try:\n",
    "        a = float(input(\"Enter the length of side A: \"))\n",
    "        b = float(input(\"Enter the length of side B: \"))\n",
    "        c = float(input(\"Enter the length of side C: \"))\n",
    "        \n",
    "        area = calcArea(a, b, c)\n",
    "        perimeter = calcPerimeter(a, b, c)\n",
    "        \n",
    "        print(f\"The area of the triangle is approximately {area:.6f} square units.\")\n",
    "        print(f\"The perimeter of the triangle is {perimeter} linear units.\")\n",
    "    except ValueError:\n",
    "        print(\"Please enter valid numerical values for the side lengths.\")\n",
    "    \n",
    "    calculation2 = input(\"Do you want to calculate another triangle (yes/no)? \")\n",
    "    if calculation2.lower() != \"yes\":\n",
    "        break"
   ]
  },
  {
   "cell_type": "markdown",
   "id": "bff0655f",
   "metadata": {},
   "source": [
    "# Task2: Write a Python program to play “Guess the Number”. Your program should generate a random\n",
    "number between 1 and 1000 and then prompt the user for a guess. Possible responses to the guess should be\n",
    "‘Too high! Guess again’, ‘Too low! Guess again’, and ‘Correct!’.\n",
    "The program should continue to prompt for input from the user until they supply the correct answer.\n",
    "The part of the program that evaluates the user’s guess should be in a function named\n",
    "evaluateGuess() that takes the guess and the randomly generated number as parameters."
   ]
  },
  {
   "cell_type": "code",
   "execution_count": 3,
   "id": "78ea54f6",
   "metadata": {},
   "outputs": [
    {
     "name": "stdout",
     "output_type": "stream",
     "text": [
      "Enter your guess: 500\n",
      "Too low! Guess again\n",
      "Enter your guess: 800\n",
      "Too low! Guess again\n",
      "Enter your guess: 900\n",
      "Too high! Guess again\n",
      "Enter your guess: 850\n",
      "Too high! Guess again\n",
      "Enter your guess: 830\n",
      "Too low! Guess again\n",
      "Enter your guess: 840\n",
      "Too high! Guess again\n",
      "Enter your guess: 835\n",
      "Too high! Guess again\n",
      "Enter your guess: 832\n",
      "Too low! Guess again\n",
      "Enter your guess: 834\n",
      "Too high! Guess again\n",
      "Enter your guess: 833\n",
      "Correct!\n",
      "Congratulations! You guessed the correct number: 833\n"
     ]
    }
   ],
   "source": [
    "import random\n",
    "\n",
    "def evaluateGuess(guess, target):\n",
    "    if guess < target:\n",
    "        return \"Too low! Guess again\"\n",
    "    elif guess > target:\n",
    "        return \"Too high! Guess again\"\n",
    "    else:\n",
    "        return \"Correct!\"\n",
    "\n",
    "target_number = random.randint(1, 1000)\n",
    "\n",
    "while True:\n",
    "    try:\n",
    "        user_guess = int(input(\"Enter your guess: \"))\n",
    "        result = evaluateGuess(user_guess, target_number)\n",
    "        print(result)\n",
    "\n",
    "        if result == \"Correct!\":\n",
    "            break\n",
    "\n",
    "    except ValueError:\n",
    "        print(\"Please enter a valid integer guess between 1 and 1000.\")\n",
    "\n",
    "print(\"Congratulations! You guessed the correct number:\", target_number)"
   ]
  },
  {
   "cell_type": "markdown",
   "id": "0e8fc76a",
   "metadata": {},
   "source": [
    " # Task3: Write a Python program to calculate the mean temperature over a set of Fahrenheit temperature\n",
    "values. Your program should calculate the mean in a function called meanTemp()and then print message that\n",
    "indicates the number of days your mean represents and the mean (see below). Your function should be flexible\n",
    "so that you can pass any number of temperatures to it. You do not need to get input from the user; simply\n",
    "include the temperatures in the function parameter list."
   ]
  },
  {
   "cell_type": "code",
   "execution_count": 4,
   "id": "8bf84330",
   "metadata": {},
   "outputs": [
    {
     "name": "stdout",
     "output_type": "stream",
     "text": [
      "The mean temperature for the past 7 days is 87.86 degrees F.\n",
      "The mean temperature for the past 5 days is 87.40 degrees F.\n",
      "The mean temperature for the past 2 days is 90.00 degrees F.\n"
     ]
    }
   ],
   "source": [
    "def meanTemp(*temperatures):\n",
    "    num_days = len(temperatures)\n",
    "    if num_days == 0:\n",
    "        return \"No temperature data provided.\"\n",
    "    mean_temperature = sum(temperatures) / num_days\n",
    "    return f\"The mean temperature for the past {num_days} days is {mean_temperature:.2f} degrees F.\"\n",
    "\n",
    "temperatures1 = [88, 90, 86, 88, 89, 87, 87]\n",
    "temperatures2 = [85, 90, 88, 87, 87]\n",
    "temperatures3 = [91, 89]\n",
    "\n",
    "print(meanTemp(*temperatures1))\n",
    "print(meanTemp(*temperatures2))\n",
    "print(meanTemp(*temperatures3))"
   ]
  }
 ],
 "metadata": {
  "kernelspec": {
   "display_name": "Python 3 (ipykernel)",
   "language": "python",
   "name": "python3"
  },
  "language_info": {
   "codemirror_mode": {
    "name": "ipython",
    "version": 3
   },
   "file_extension": ".py",
   "mimetype": "text/x-python",
   "name": "python",
   "nbconvert_exporter": "python",
   "pygments_lexer": "ipython3",
   "version": "3.11.4"
  }
 },
 "nbformat": 4,
 "nbformat_minor": 5
}
